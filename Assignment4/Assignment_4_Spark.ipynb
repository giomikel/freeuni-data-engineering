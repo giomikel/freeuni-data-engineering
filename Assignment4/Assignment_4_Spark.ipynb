{
  "cells": [
    {
      "cell_type": "markdown",
      "metadata": {
        "id": "ISYSq9TEQtyb"
      },
      "source": [
        "**ძირითადი ნაწილი (6 ქულა)**\n",
        "\n",
        "ამ დავალების პირობა თქვენთვის კარგად ნაცნობია შუალედური გამოცდიდან. 😁😁 მოგიწევთ, რომ იდენტური ამოცანა ამოხსნათ, ოღონდ PySpark-ის გამოყენებით. არ გამოიყენოთ Pandas-ის ბიბლიოთეკა. წინააღმდეგ შემთხვევაში არ ჩაითვლება. \n",
        "\n",
        "შეგახსენებთ პირობას:"
      ]
    },
    {
      "cell_type": "markdown",
      "metadata": {
        "id": "me-su1wRQtyk",
        "tags": []
      },
      "source": [
        "You are given dataset of Marvel superheroes (some DC heroes may have sneaked through as usual), your first task is to randomly generate teams of 5 heroes with following columns:\n",
        "- team_name: team name should be generated using strongest hero name in team with following template \"Team: {Strongest_Hero_Name}\" to calculate stongest hero in team you'll need to calculate average of following attributes in charcters_stats file: Intelligence, Strength, Speed, Durability, Power, Combat\n",
        "- leader: name of hero with highest Intelligence score in team\n",
        "- tank: name of hero with highest sum value of Strength and Durability\n",
        "- damage: hero with highest sum value of Speed, Power and Combat \n",
        "- the_other_guy: one of the hero who's not specified in above columns\n",
        "- the_other_guy2: one of the hero who's not specified in above columns\n",
        "- top_average_speed: average of top 3 highest speed entries in team\n",
        "- top_average_height: average of top 3 tallest heroes in team\n",
        "- flight_count: number of heroes who can fly in team (available in superheroes_power_matrix)  \n",
        "\n",
        "**same hero should not end up in multiple teams.**\n",
        "\n",
        "**all negative values should be converted to 0.**\n",
        "\n",
        "\n",
        "თუმცა, შუალედურისგან განსხვავებით ერთი შეზღუდვაა: *ამოხსნაში არ უნდა გამოიყენოთ ციკლები (for, while და მისთანანი   \n",
        "🥲)*."
      ]
    },
    {
      "cell_type": "code",
      "execution_count": null,
      "metadata": {
        "id": "beFrOOxbQtyl"
      },
      "outputs": [],
      "source": [
        "# ძირითადი ნაწილი spark 3.2-ზე\n",
        "from pyspark import SparkContext, SparkConf\n",
        "from pyspark.sql import SparkSession\n",
        "from pyspark.sql.functions import col, split, count, when\n",
        "from pyspark.sql.types import *\n",
        "\n",
        "app_name = 'DataEngineering'\n",
        "\n",
        "spark = SparkSession \\\n",
        "      .builder \\\n",
        "      .enableHiveSupport() \\\n",
        "      .config(\"hive.exec.dynamic.partition\", \"true\") \\\n",
        "      .config(\"hive.exec.dynamic.partition.mode\", \"nonstrict\") \\\n",
        "      .appName(app_name) \\\n",
        "      .getOrCreate()\\\n",
        "\n",
        "\n",
        "sc = spark.sparkContext"
      ]
    },
    {
      "cell_type": "code",
      "execution_count": null,
      "metadata": {
        "id": "zdtPThg2Qtyo",
        "outputId": "a9e0a285-0bb4-4d5a-fa9d-43934aa7529a",
        "scrolled": true
      },
      "outputs": [],
      "source": [
        "character_stats = spark.read.option('inferSchema', 'true') \\\n",
        "                  .option('header', 'true') \\\n",
        "                  .csv('character_stats.csv')\n",
        "\n",
        "marvel_characters_info = spark.read.option('inferSchema', 'true') \\\n",
        "                         .option('header', 'true') \\\n",
        "                         .csv('marvel_characters_info.csv')\n",
        "\n",
        "superheroes_power_matrix = spark.read.option('inferSchema', 'true') \\\n",
        "                           .option('header', 'true') \\\n",
        "                           .csv('superheroes_power_matrix.csv')\n",
        "\n",
        "chars_not_in_character_stats1 = marvel_characters_info.join(character_stats, character_stats.Name == marvel_characters_info.Name, 'leftanti')\n",
        "chars_not_in_character_stats2 = superheroes_power_matrix.join(character_stats, character_stats.Name == superheroes_power_matrix.Name, 'leftanti')\n",
        "chars_not_in_character_stats = chars_not_in_character_stats1.select(col('Name')).union(chars_not_in_character_stats2.select(col('Name'))).distinct()\n",
        "\n",
        "chars_not_in_mci1 = character_stats.join(marvel_characters_info, marvel_characters_info.Name == character_stats.Name, 'leftanti')\n",
        "chars_not_in_mci2 = superheroes_power_matrix.join(marvel_characters_info, marvel_characters_info.Name == superheroes_power_matrix.Name, 'leftanti')\n",
        "chars_not_in_mci = chars_not_in_mci1.select(col('Name')).union(chars_not_in_mci2.select(col('Name'))).distinct()\n",
        "\n",
        "chars_not_in_spm1 = character_stats.join(superheroes_power_matrix, character_stats.Name == superheroes_power_matrix.Name, 'leftanti')\n",
        "chars_not_in_spm2 = marvel_characters_info.join(superheroes_power_matrix, marvel_characters_info.Name == superheroes_power_matrix.Name, 'leftanti')\n",
        "chars_not_in_spm = chars_not_in_spm1.select(col('Name')).union(chars_not_in_spm2.select(col('Name'))).distinct()\n",
        "\n",
        "character_stats = character_stats.unionByName(chars_not_in_character_stats, allowMissingColumns=True).sort(col('Name'))\n",
        "character_stats = character_stats.fillna(0, subset=['Intelligence', 'Strength', 'Speed', 'Durability', 'Power', 'Combat', 'Total'])\n",
        "\n",
        "marvel_characters_info = marvel_characters_info.unionByName(chars_not_in_mci, allowMissingColumns=True).sort(col('Name'))\n",
        "marvel_characters_info = marvel_characters_info.fillna(0, subset=['Height', 'Weight'])\n",
        "\n",
        "superheroes_power_matrix = superheroes_power_matrix.unionByName(chars_not_in_spm, allowMissingColumns=True).sort(col('Name'))\n",
        "superheroes_power_matrix = superheroes_power_matrix.fillna(False)\n",
        "\n",
        "marvel_characters_info = marvel_characters_info.withColumn('Height', when(col(\"Height\") > 0, col(\"Height\")).otherwise(0))\n",
        "marvel_characters_info = marvel_characters_info.withColumn('Weight', when(col(\"Weight\") > 0, col(\"Weight\")).otherwise(0))"
      ]
    },
    {
      "cell_type": "code",
      "execution_count": null,
      "metadata": {
        "id": "YnS3adIWQtyp",
        "outputId": "e3b00897-da89-41b2-b269-2b14576322be",
        "scrolled": true
      },
      "outputs": [
        {
          "name": "stdout",
          "output_type": "stream",
          "text": [
            "+-------------+---------+------------+--------+-----+----------+-----+------+-----+\n",
            "|         Name|Alignment|Intelligence|Strength|Speed|Durability|Power|Combat|Total|\n",
            "+-------------+---------+------------+--------+-----+----------+-----+------+-----+\n",
            "|   Abe Sapien|     good|          88|      14|   35|        42|   35|    85|  299|\n",
            "|      Abraxas|      bad|          88|     100|   83|        99|  100|    56|  526|\n",
            "|Absorbing Man|     null|           0|       0|    0|         0|    0|     0|    0|\n",
            "| Adam Strange|     good|           1|       1|    1|         1|    0|     1|    5|\n",
            "|   Agent Zero|     good|          75|      28|   38|        80|   72|    95|  388|\n",
            "+-------------+---------+------------+--------+-----+----------+-----+------+-----+\n",
            "\n"
          ]
        }
      ],
      "source": [
        "# ციკლების გარეშე გადავწყვიტე 8 გუნდი ხელით ჩამომეწერა\n",
        "\n",
        "sample_chars = character_stats.sample(withReplacement=False, fraction=0.5).limit(40).cache()\n",
        "\n",
        "team_a = sample_chars.limit(5).cache()\n",
        "\n",
        "sample_chars = sample_chars.join(team_a, 'Name', 'leftanti')\n",
        "\n",
        "team_b = sample_chars.limit(5).cache()\n",
        "\n",
        "sample_chars = sample_chars.join(team_b, 'Name', 'leftanti')\n",
        "\n",
        "team_c = sample_chars.limit(5).cache()\n",
        "\n",
        "sample_chars = sample_chars.join(team_c, 'Name', 'leftanti')\n",
        "\n",
        "team_d = sample_chars.limit(5).cache()\n",
        "\n",
        "sample_chars = sample_chars.join(team_d, 'Name', 'leftanti')\n",
        "\n",
        "team_e = sample_chars.limit(5).cache()\n",
        "\n",
        "sample_chars = sample_chars.join(team_e, 'Name', 'leftanti')\n",
        "\n",
        "team_f = sample_chars.limit(5).cache()\n",
        "\n",
        "sample_chars = sample_chars.join(team_f, 'Name', 'leftanti')\n",
        "\n",
        "team_g = sample_chars.limit(5).cache()\n",
        "\n",
        "sample_chars = sample_chars.join(team_g, 'Name', 'leftanti')\n",
        "\n",
        "team_h = sample_chars.cache()\n",
        "\n",
        "team_a.show()"
      ]
    },
    {
      "cell_type": "code",
      "execution_count": null,
      "metadata": {
        "id": "RLuFDqiGQtyr",
        "outputId": "04c082db-6939-4f90-fda9-76070c32c276"
      },
      "outputs": [
        {
          "data": {
            "text/plain": [
              "('Team: Abraxas',\n",
              " 'Abe Sapien',\n",
              " 'Abraxas',\n",
              " 'Agent Zero',\n",
              " 'Absorbing Man',\n",
              " 'Adam Strange',\n",
              " 52.0,\n",
              " 191.66666666666666,\n",
              " 2)"
            ]
          },
          "execution_count": 11,
          "metadata": {},
          "output_type": "execute_result"
        }
      ],
      "source": [
        "def make_team(team_original):\n",
        "    team = team_original.alias('team').cache()\n",
        "    team_name = 'Team: ' + team.select(col('Name'), ((col('Intelligence') + col('Strength') + col('Speed') \\\n",
        "                                                      + col('Durability') + col('Power') + col('Combat')) / 6) \\\n",
        "                                                      .alias('avg')).sort(col('avg'), ascending=False).first()[0]\n",
        "    team_leader = team.select(col('Name'), col('Intelligence')).sort(col('Intelligence'), ascending=False).first()[0]\n",
        "    team = team.filter(col('Name') != team_leader)\n",
        "    team_tank = team.select(col('Name'), (col('Strength') + col('Durability')).alias('Tankiness')) \\\n",
        "                    .sort(col('Tankiness'), ascending=False).first()[0]\n",
        "    team = team.filter(col('Name') != team_tank)\n",
        "    team_damage = team.select(col('Name'), (col('Speed') + col('Power') + col('Combat')).alias('Damage')) \\\n",
        "                      .sort(col('Damage'), ascending=False).first()[0]\n",
        "    team = team.filter(col('Name') != team_damage)\n",
        "    team_other_guy = team.first()[0]\n",
        "    team = team.filter(col('Name') != team_other_guy)\n",
        "    team_other_guy2 = team.first()[0]\n",
        "    heights = team_original.join(marvel_characters_info, marvel_characters_info.Name == team_original.Name, 'inner') \\\n",
        "                           .select(col('Height')) \\\n",
        "                           .sort(col('Height'), ascending=False).take(3)\n",
        "    top_average_height = (heights[0][0] + heights[1][0] + heights[2][0]) / 3\n",
        "    speeds = team_original.select(col('Speed')).sort(col('Speed'), ascending=False).take(3)\n",
        "    top_average_speed = (speeds[0][0] + speeds[1][0] + speeds[2][0]) / 3\n",
        "    flight = team_original.join(superheroes_power_matrix, superheroes_power_matrix.Name == team_original.Name, 'inner') \\\n",
        "                          .select(col('Flight'))\n",
        "    flight_count = flight.filter(col('Flight') == 'true').count()\n",
        "    return (team_name, team_leader, team_tank, team_damage, team_other_guy, team_other_guy2, top_average_speed,\n",
        "            top_average_height, flight_count)\n",
        "\n",
        "cols = ['team_name', 'leader', 'tank', 'damage', 'the_other_guy', 'the_other_guy2', 'top_average_speed', 'top_average_height', 'flight_count']\n",
        "\n",
        "# 1 წუთამდე სჭირდება ამ ნაწილს\n",
        "team_a = make_team(team_a)\n",
        "team_b = make_team(team_b)\n",
        "team_c = make_team(team_c)\n",
        "team_d = make_team(team_d)\n",
        "team_e = make_team(team_e)\n",
        "team_f = make_team(team_f)\n",
        "team_g = make_team(team_g)\n",
        "team_h = make_team(team_h)\n",
        "team_a\n"
      ]
    },
    {
      "cell_type": "code",
      "execution_count": null,
      "metadata": {
        "id": "h7-0SMbhQtys"
      },
      "outputs": [],
      "source": [
        "import pandas as pd\n",
        "teams = [team_a, team_b, team_c, team_d, team_e, team_f, team_g, team_h]\n",
        "# პირველი ნაწილი 3.2-ზე დაწყებული მქონდა უკვე და სამწუხაროდ map და სხვა ფუნქციონალები არ მუშაობდა\n",
        "# teams_df = spark.createDataFrame(teams, cols) ერორს მიგდებდა ამის გამოტანისას spark 3+ზე და პანდასით უბრალოდ დავაექსპორტე\n",
        "pd_df = pd.DataFrame(teams, columns=cols)\n",
        "pd_df.set_index('team_name').to_csv('./df.csv')"
      ]
    },
    {
      "cell_type": "code",
      "execution_count": 2,
      "metadata": {
        "colab": {
          "base_uri": "https://localhost:8080/"
        },
        "id": "A45J6jXkQtyt",
        "outputId": "56bf5d83-9549-4f45-fa17-af8ec0dbf11e"
      },
      "outputs": [
        {
          "name": "stdout",
          "output_type": "stream",
          "text": [
            "+----------------+----------+------------+----------------+--------------+--------------+------------------+------------------+------------+\n",
            "|       team_name|    leader|        tank|          damage| the_other_guy|the_other_guy2| top_average_speed|top_average_height|flight_count|\n",
            "+----------------+----------+------------+----------------+--------------+--------------+------------------+------------------+------------+\n",
            "|   Team: Abraxas|Abe Sapien|     Abraxas|      Agent Zero| Absorbing Man|  Adam Strange|              52.0|191.66666666666666|           2|\n",
            "|Team: Air-Walker|Air-Walker|Alex Woolsly|Allan Quatermain|          Ajax|   Alex Mercer|              34.0|             127.0|           1|\n",
            "|Team: Animal Man|   Ant-Man|  Animal Man|            Ammo|Ando Masahashi|    Anti-Spawn|23.666666666666668|             194.0|           0|\n",
            "|Team: Apocalypse|Apocalypse|     Aquaman|      Anti-Venom|      Aquababy|      Arclight|49.333333333333336|             209.0|           1|\n",
            "|     Team: Atlas|     Armor|       Atlas|         Arsenal|     Astro Boy|          Atom|              12.0|174.66666666666666|           1|\n",
            "|    Team: Azazel|    Azrael|      Azazel|       Atom Girl|      Atom III|         Aztar|              29.0|             117.0|           1|\n",
            "|    Team: Batman|    Batman|  Batgirl IV|      Batgirl VI|     Bananaman|     Batgirl V|25.666666666666668|170.33333333333334|           1|\n",
            "|     Team: Beast| Batman II|  Battlestar|           Beast|        Beetle|        Ben 10|34.333333333333336|185.33333333333334|           0|\n",
            "+----------------+----------+------------+----------------+--------------+--------------+------------------+------------------+------------+\n",
            "\n"
          ]
        }
      ],
      "source": [
        "teams_df = spark.read.option('inferSchema', 'true') \\\n",
        "           .option('header', 'true') \\\n",
        "           .csv('df.csv')\n",
        "teams_df.show()"
      ]
    },
    {
      "cell_type": "markdown",
      "metadata": {
        "id": "Gu1v_wBIQtyv"
      },
      "source": [
        "**ბონუს ნაწილი (2 ქულა)**\n",
        "\n",
        "ეს ნაწილიც თქვენთვის ნაცნობია და გუნდების ერთმანეთთან შეჯიბრებას, ბოლოს კი გამარჯვებულის გამოვლენას ეხება.\n",
        "შეგახსენებთ პირობას:\n",
        "\n",
        "After generating teams, obvious next task would be to perform basketball face off between teams. To determine winning teams we'll be using following logic:\n",
        "* team scores 1 point if their top_average_speed is superior \n",
        "* team scores 1 point if their top_average_height is superior \n",
        "* team scores 1 point for each member inside team who can fly (available in superheroes_power_matrix)  \n",
        "team with highest score wins!\n",
        "\n",
        "Based on rules above you should perform competition: first you'll need to randomly divide teams (all of them) into 4 brackets and generate data frames for each of them, data frame should contain all possible combinations of teams,\n",
        "for example if bracket consists of teams [A,B,C,D] data frame should contain pairs (A,B) (A,C) (A,D) (B,C) (B,D) (C,D) with following schema\n",
        "- team_a: name for first team\n",
        "- team_b: name for second team\n",
        "- team_a_score: score for first team against second team, calculated using rules described above\n",
        "- team_b_score: same for second team  \n",
        "\n",
        "after generating data frame, pick one team from each bracket with most wins: team1, team2, team3 and team4\n",
        "perform semi-finals: team1 vs team2, team3 vs team4 and finals with winner from these games\n",
        "\n",
        "**if you get a tie at any point when facing teams with each other, you can pick any team, you may also drop some teams if there is too much missing data**  \n",
        "\n",
        "---\n",
        "\n",
        "გაწვდით 3 ფაილს, რომელიც ამ დავალებისთვის დაგჭირდებათ. ფაილებში პერსონაჟები არ დუბლირდება და შეგიძლიათ, ეგ არ შეამოწმოთ.\n",
        "\n",
        "ამოხსნა ატვირთეთ ნოუთბუქის სახით.\n",
        "\n",
        "წარმატებები!"
      ]
    },
    {
      "cell_type": "markdown",
      "metadata": {
        "id": "_LZGgzMrQtyx"
      },
      "source": [
        "## ბონუს ნაწილი spark 2.4-ზე გავაკეთე ქოლაბით"
      ]
    },
    {
      "cell_type": "code",
      "execution_count": 3,
      "metadata": {
        "colab": {
          "base_uri": "https://localhost:8080/"
        },
        "id": "hpF81P3MQtyy",
        "outputId": "14620a23-661e-4572-eb64-e2d17a7ba61d"
      },
      "outputs": [
        {
          "name": "stdout",
          "output_type": "stream",
          "text": [
            "+----------------+----------+------------+----------------+-------------+--------------+-----------------+------------------+------------+\n",
            "|       team_name|    leader|        tank|          damage|the_other_guy|the_other_guy2|top_average_speed|top_average_height|flight_count|\n",
            "+----------------+----------+------------+----------------+-------------+--------------+-----------------+------------------+------------+\n",
            "|   Team: Abraxas|Abe Sapien|     Abraxas|      Agent Zero|Absorbing Man|  Adam Strange|             52.0|191.66666666666666|           2|\n",
            "|Team: Air-Walker|Air-Walker|Alex Woolsly|Allan Quatermain|         Ajax|   Alex Mercer|             34.0|             127.0|           1|\n",
            "+----------------+----------+------------+----------------+-------------+--------------+-----------------+------------------+------------+\n",
            "\n"
          ]
        }
      ],
      "source": [
        "from random import random\n",
        "\n",
        "teams_df_copy = teams_df.alias('copy')\n",
        "\n",
        "teams_in_bracket = int(teams_df.count() / 4)\n",
        "# randomSplit ვცადე მაგრამ არაკონსისტენტური იყო, ზოგ ჯგუფში 1-ით მეტი ან ნაკლები ხვდებოდა\n",
        "teams_df = teams_df.sample(False, 1.0, random()) # რენდომად უნდა არიოს წესით სტრიქონები\n",
        "first_bracket = teams_df.limit(teams_in_bracket).cache()\n",
        "teams_df = teams_df.join(first_bracket, 'team_name', 'leftanti')\n",
        "second_bracket = teams_df.limit(teams_in_bracket).cache()\n",
        "teams_df = teams_df.join(second_bracket, 'team_name', 'leftanti')\n",
        "third_bracket = teams_df.limit(teams_in_bracket).cache()\n",
        "teams_df = teams_df.join(third_bracket, 'team_name', 'leftanti')\n",
        "fourth_bracket = teams_df.cache()\n",
        "first_bracket.show()"
      ]
    },
    {
      "cell_type": "code",
      "execution_count": 4,
      "metadata": {
        "id": "VS9BV9zmQtyy",
        "scrolled": true
      },
      "outputs": [],
      "source": [
        "from itertools import combinations\n",
        "def getWinner(bracket):\n",
        "  team_names = bracket.rdd.map(lambda x: x[0]).collect()\n",
        "  team_combinations = list(combinations(team_names, 2))\n",
        "  combinations_df = spark.createDataFrame(team_combinations, ['team_a', 'team_b'])\n",
        "  comb_with_scores = combinations_df.join(bracket.select(col('team_name').alias('team_a_name'),\n",
        "                                        col('top_average_speed').alias('team_a_speed'), \n",
        "                                        col('top_average_height').alias('team_a_height'), \n",
        "                                        col('flight_count').alias('team_a_flight')), \n",
        "                                        col('team_a_name') == col('team_a'), 'inner') \\\n",
        "                                    .join(bracket.select(col('team_name').alias('team_b_name'),\n",
        "                                        col('top_average_speed').alias('team_b_speed'), \n",
        "                                        col('top_average_height').alias('team_b_height'), \n",
        "                                        col('flight_count').alias('team_b_flight')), \n",
        "                                        col('team_b_name') == col('team_b'), 'inner') \\\n",
        "                                    .rdd.map(lambda row: (row[0], row[1], (1 if row[3] > row[7] else 0)\n",
        "                                        + (1 if row[4] > row[8] else 0) + row[5],\n",
        "                                        (1 if row[7] > row[3] else 0) + (1 if row[8] > row[4]\n",
        "                                        else 0) + row[9])).collect()\n",
        "  score_df = spark.createDataFrame(comb_with_scores, ['team_a', 'team_b', 'team_a_score', 'team_b_score'])\n",
        "  bracket_winner = score_df.rdd.map(lambda row: (row[0] if row[2] >= row[3] else row[1], 1)) \\\n",
        "                           .reduceByKey(lambda x, y: x + y) \\\n",
        "                           .sortBy(lambda x: -x[1]).collect()[0][0]\n",
        "  return bracket_winner"
      ]
    },
    {
      "cell_type": "code",
      "execution_count": 5,
      "metadata": {
        "colab": {
          "base_uri": "https://localhost:8080/"
        },
        "id": "AKKZiTKtQtyz",
        "outputId": "b4f4a01f-c7f9-4d63-eab2-5000783d3678",
        "scrolled": true
      },
      "outputs": [
        {
          "name": "stdout",
          "output_type": "stream",
          "text": [
            "Round 1 winners: ['Team: Abraxas', 'Team: Apocalypse', 'Team: Atlas', 'Team: Beast']\n",
            "Round 2 winners: ['Team: Abraxas', 'Team: Beast']\n",
            "Finals winner: Team: Abraxas\n"
          ]
        }
      ],
      "source": [
        "round_one_winners = [getWinner(first_bracket), getWinner(second_bracket), \n",
        "                     getWinner(third_bracket), getWinner(fourth_bracket)]\n",
        "print('Round 1 winners:', round_one_winners)\n",
        "\n",
        "round_one_winner_1 = teams_df_copy.filter(col('team_name') == round_one_winners[0])\n",
        "round_one_winner_2 = teams_df_copy.filter(col('team_name') == round_one_winners[1])\n",
        "round_one_winner_3 = teams_df_copy.filter(col('team_name') == round_one_winners[2])\n",
        "round_one_winner_4 = teams_df_copy.filter(col('team_name') == round_one_winners[3])\n",
        "\n",
        "round_two_first_bracket = round_one_winner_1.union(round_one_winner_2)\n",
        "round_two_second_bracket = round_one_winner_3.union(round_one_winner_4)\n",
        "\n",
        "round_two_winners = [getWinner(round_two_first_bracket), getWinner(round_two_second_bracket)]\n",
        "print('Round 2 winners:', round_two_winners)\n",
        "\n",
        "round_two_winner_1 = teams_df_copy.filter(col('team_name') == round_two_winners[0])\n",
        "round_two_winner_2 = teams_df_copy.filter(col('team_name') == round_two_winners[1])\n",
        "\n",
        "final_bracket = round_two_winner_1.union(round_two_winner_2)\n",
        "\n",
        "finals_winner = getWinner(final_bracket)\n",
        "print('Finals winner:', finals_winner)"
      ]
    }
  ],
  "metadata": {
    "colab": {
      "collapsed_sections": [],
      "name": "Assignment_4_Spark.ipynb",
      "provenance": []
    },
    "kernelspec": {
      "display_name": "Python 3",
      "language": "python",
      "name": "python3"
    },
    "language_info": {
      "codemirror_mode": {
        "name": "ipython",
        "version": 3
      },
      "file_extension": ".py",
      "mimetype": "text/x-python",
      "name": "python",
      "nbconvert_exporter": "python",
      "pygments_lexer": "ipython3",
      "version": "3.7.11"
    }
  },
  "nbformat": 4,
  "nbformat_minor": 0
}
